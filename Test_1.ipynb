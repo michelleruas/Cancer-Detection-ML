{
  "nbformat": 4,
  "nbformat_minor": 0,
  "metadata": {
    "colab": {
      "name": "Test 1.ipynb",
      "provenance": [],
      "authorship_tag": "ABX9TyMaP5NRWxT65rRJng51z0bT",
      "include_colab_link": true
    },
    "kernelspec": {
      "name": "python3",
      "display_name": "Python 3"
    }
  },
  "cells": [
    {
      "cell_type": "markdown",
      "metadata": {
        "id": "view-in-github",
        "colab_type": "text"
      },
      "source": [
        "<a href=\"https://colab.research.google.com/github/michelleruas/Cancer-Detection-ML/blob/master/Test_1.ipynb\" target=\"_parent\"><img src=\"https://colab.research.google.com/assets/colab-badge.svg\" alt=\"Open In Colab\"/></a>"
      ]
    },
    {
      "cell_type": "code",
      "metadata": {
        "id": "FLMqlKkJuf1x",
        "colab_type": "code",
        "colab": {
          "base_uri": "https://localhost:8080/",
          "height": 68
        },
        "outputId": "bcaf7fef-c6cd-4582-e7d1-16cd64ce44b3"
      },
      "source": [
        "print(\"Hello\")\n",
        "\n",
        "print(\"Testing Github connection\")\n",
        "print(\"Test 2\")"
      ],
      "execution_count": 3,
      "outputs": [
        {
          "output_type": "stream",
          "text": [
            "Hello\n",
            "Testing Github connection\n",
            "Test 2\n"
          ],
          "name": "stdout"
        }
      ]
    },
    {
      "cell_type": "markdown",
      "metadata": {
        "id": "XGjGvlZbxWqg",
        "colab_type": "text"
      },
      "source": [
        ""
      ]
    }
  ]
}